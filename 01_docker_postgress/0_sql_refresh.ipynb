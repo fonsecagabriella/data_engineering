{
 "cells": [
  {
   "cell_type": "markdown",
   "metadata": {},
   "source": [
    "# SQL Refresher 🧠\n",
    "\n",
    "## NOTES 📝\n",
    "\n",
    "- **SQL evaluates the WHERE clause before the SELECT clause, so it does not recognize the alias or functions such as SUM (if you use an alias as SELECT x AS y, it won't recognise y in WHERE)**\n",
    "\n",
    "\n",
    "- Double quotes (\") are used to reference column or table names, while single quotes (') are used to define string literals"
   ]
  },
  {
   "cell_type": "markdown",
   "metadata": {
    "vscode": {
     "languageId": "sql"
    }
   },
   "source": [
    "\n",
    "## Simple selection of two tables without join"
   ]
  },
  {
   "cell_type": "code",
   "execution_count": null,
   "metadata": {
    "vscode": {
     "languageId": "sql"
    }
   },
   "outputs": [],
   "source": [
    "SELECT\n",
    "\ttpep_pickup_datetime,\n",
    "\ttpep_dropoff_datetime,\n",
    "\ttotal_amount,\n",
    "\tCONCAT(z_pickup.\"Borough\", ' / ' , z_pickup.\"Zone\") AS \"pickup_location\",\n",
    "\tCONCAT(z_dropoff.\"Borough\", ' / ' , z_dropoff.\"Zone\") AS \"dropoff_location\"\n",
    "FROM \n",
    "\tyellow_taxi_trips t,\n",
    "\ttaxi_zone_lookup z_pickup,\n",
    "\ttaxi_zone_lookup z_dropoff\n",
    "WHERE\n",
    "\tt.\"PULocationID\" = z_pickup.\"LocationID\" AND\n",
    "\tt.\"DOLocationID\" = z_dropoff.\"LocationID\"\n",
    "\n",
    "LIMIT 100;"
   ]
  },
  {
   "cell_type": "markdown",
   "metadata": {},
   "source": [
    "## Simple Join\n",
    "(This is the inner join)"
   ]
  },
  {
   "cell_type": "code",
   "execution_count": null,
   "metadata": {
    "vscode": {
     "languageId": "sql"
    }
   },
   "outputs": [],
   "source": [
    "SELECT\n",
    "\ttpep_pickup_datetime,\n",
    "\ttpep_dropoff_datetime,\n",
    "\ttotal_amount,\n",
    "\tCONCAT(z_pickup.\"Borough\", ' / ' , z_pickup.\"Zone\") AS \"pickup_location\",\n",
    "\tCONCAT(z_dropoff.\"Borough\", ' / ' , z_dropoff.\"Zone\") AS \"dropoff_location\"\n",
    "FROM \n",
    "\tyellow_taxi_trips t \n",
    "    JOIN taxi_zone_lookup z_pickup \n",
    "        ON t.\"PULocationID\" = z_pickup.\"LocationID\"\n",
    "\tJOIN taxi_zone_lookup z_dropoff\n",
    "        ON t.\"DOLocationID\" = z_dropoff.\"LocationID\"\n",
    "\n",
    "LIMIT 100;"
   ]
  },
  {
   "cell_type": "markdown",
   "metadata": {},
   "source": [
    "## Check for null values"
   ]
  },
  {
   "cell_type": "code",
   "execution_count": null,
   "metadata": {
    "vscode": {
     "languageId": "sql"
    }
   },
   "outputs": [],
   "source": [
    "SELECT\n",
    "\ttpep_pickup_datetime,\n",
    "\ttpep_dropoff_datetime,\n",
    "\ttotal_amount,\n",
    "    \"PULocationID\",\n",
    "    \"DOLocationID\"\n",
    "\n",
    "FROM\n",
    "\tyellow_taxi_trips t\n",
    "\n",
    "WHERE\n",
    "\tt.\"PULocationID\" =  NULL\n",
    "\n",
    "LIMIT 100;"
   ]
  },
  {
   "cell_type": "markdown",
   "metadata": {},
   "source": [
    "## Check if any dropout location is not in zone table"
   ]
  },
  {
   "cell_type": "code",
   "execution_count": null,
   "metadata": {
    "vscode": {
     "languageId": "sql"
    }
   },
   "outputs": [],
   "source": [
    "SELECT\n",
    "\ttpep_pickup_datetime,\n",
    "\ttpep_dropoff_datetime,\n",
    "\ttotal_amount,\n",
    "    \"PULocationID\",\n",
    "    \"DOLocationID\"\n",
    "\n",
    "FROM \n",
    "\tyellow_taxi_trips t\n",
    "\n",
    "WHERE\n",
    "\t\"DOLocationID\" NOT IN (SELECT \"LocationID\" FROM taxi_zone_lookup)\n"
   ]
  },
  {
   "cell_type": "markdown",
   "metadata": {},
   "source": [
    "## Cast & Group By"
   ]
  },
  {
   "cell_type": "code",
   "execution_count": null,
   "metadata": {
    "vscode": {
     "languageId": "sql"
    }
   },
   "outputs": [],
   "source": [
    "SELECT\n",
    "    CAST(tpep_pickup_datetime AS DATE) AS \"pickup_date\",\n",
    "    COUNT(*)\n",
    "FROM\n",
    "    yellow_taxi_trips\n",
    "GROUP BY \n",
    "    pickup_date\n",
    "ORDER BY\n",
    "    pickup_date"
   ]
  }
 ],
 "metadata": {
  "kernelspec": {
   "display_name": "Python 3",
   "language": "python",
   "name": "python3"
  },
  "language_info": {
   "name": "python",
   "version": "3.13.1"
  }
 },
 "nbformat": 4,
 "nbformat_minor": 2
}
